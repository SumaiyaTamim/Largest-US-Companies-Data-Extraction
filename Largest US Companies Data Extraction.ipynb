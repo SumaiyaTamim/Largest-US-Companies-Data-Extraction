{
 "cells": [
  {
   "cell_type": "markdown",
   "id": "360f727a-38a5-4702-b5f4-f06b4a55a30c",
   "metadata": {},
   "source": [
    "**1. Overview of the Project:**\n",
    "\n",
    "This project performs web scraping to extract the list of the largest companies in the United States by revenue from Wikipedia."
   ]
  },
  {
   "cell_type": "code",
   "execution_count": 19,
   "id": "0baaf33b-7633-4db4-b267-04060ff2c6fd",
   "metadata": {},
   "outputs": [
    {
     "name": "stdout",
     "output_type": "stream",
     "text": [
      "Requirement already satisfied: beautifulsoup4 in c:\\users\\user\\appdata\\local\\programs\\python\\python312\\lib\\site-packages (4.12.3)Note: you may need to restart the kernel to use updated packages.\n",
      "\n",
      "Requirement already satisfied: soupsieve>1.2 in c:\\users\\user\\appdata\\local\\programs\\python\\python312\\lib\\site-packages (from beautifulsoup4) (2.6)\n"
     ]
    },
    {
     "name": "stderr",
     "output_type": "stream",
     "text": [
      "\n",
      "[notice] A new release of pip is available: 24.2 -> 25.0.1\n",
      "[notice] To update, run: python.exe -m pip install --upgrade pip\n"
     ]
    }
   ],
   "source": [
    "pip install requests\n",
    "pip install beautifulsoup4"
   ]
  },
  {
   "cell_type": "markdown",
   "id": "56360f3f-801c-468a-b6f6-29212ee0aae9",
   "metadata": {},
   "source": [
    "**2. Importing Libraries:**\n",
    "\n",
    "Importing necessary libraries for web scraping and data manipulation."
   ]
  },
  {
   "cell_type": "code",
   "execution_count": 21,
   "id": "78939fee-c060-46fe-933d-bdc204a6f4a6",
   "metadata": {},
   "outputs": [],
   "source": [
    "from bs4 import BeautifulSoup\n",
    "import requests"
   ]
  },
  {
   "cell_type": "markdown",
   "id": "daa4018f-03a8-4c8d-9ce3-be88f3321883",
   "metadata": {},
   "source": [
    "**3. Extracting & Cleaning Data:**\n",
    "\n",
    "We first identify the relevant table containing the list of companies, then extract the necessary information \n",
    "by iterating through the table rows. After extraction, we will clean the data to ensure it is in a usable format."
   ]
  },
  {
   "cell_type": "code",
   "execution_count": 22,
   "id": "1ff15575-8661-401f-9084-693aead40a5c",
   "metadata": {},
   "outputs": [],
   "source": [
    "url = 'https://en.wikipedia.org/wiki/List_of_largest_companies_in_the_United_States_by_revenue'\n",
    "page = requests.get(url)\n",
    "soup = BeautifulSoup(page.text, 'html')"
   ]
  },
  {
   "cell_type": "code",
   "execution_count": 59,
   "id": "ce324cbb-13a7-4357-b8f9-101922081503",
   "metadata": {},
   "outputs": [],
   "source": [
    "table_one = soup.find_all('table')[0]\n",
    "#print(table_one)"
   ]
  },
  {
   "cell_type": "code",
   "execution_count": 60,
   "id": "96b39aac-6623-41aa-818f-387a9e67163e",
   "metadata": {},
   "outputs": [],
   "source": [
    "titles = table_one.find_all('th')\n",
    "title = [title.text.strip() for title in titles]\n",
    "#print(title)"
   ]
  },
  {
   "cell_type": "code",
   "execution_count": 42,
   "id": "c0deeaa0-3068-43cb-9125-e01a881110c4",
   "metadata": {},
   "outputs": [],
   "source": [
    "import pandas as pd"
   ]
  },
  {
   "cell_type": "code",
   "execution_count": 46,
   "id": "6af5a21c-b234-4731-b458-af98c454eea5",
   "metadata": {},
   "outputs": [
    {
     "data": {
      "text/html": [
       "<div>\n",
       "<style scoped>\n",
       "    .dataframe tbody tr th:only-of-type {\n",
       "        vertical-align: middle;\n",
       "    }\n",
       "\n",
       "    .dataframe tbody tr th {\n",
       "        vertical-align: top;\n",
       "    }\n",
       "\n",
       "    .dataframe thead th {\n",
       "        text-align: right;\n",
       "    }\n",
       "</style>\n",
       "<table border=\"1\" class=\"dataframe\">\n",
       "  <thead>\n",
       "    <tr style=\"text-align: right;\">\n",
       "      <th></th>\n",
       "      <th>Rank</th>\n",
       "      <th>Name</th>\n",
       "      <th>Industry</th>\n",
       "      <th>Revenue (USD millions)</th>\n",
       "      <th>Revenue growth</th>\n",
       "      <th>Employees</th>\n",
       "      <th>Headquarters</th>\n",
       "    </tr>\n",
       "  </thead>\n",
       "  <tbody>\n",
       "  </tbody>\n",
       "</table>\n",
       "</div>"
      ],
      "text/plain": [
       "Empty DataFrame\n",
       "Columns: [Rank, Name, Industry, Revenue (USD millions), Revenue growth, Employees, Headquarters]\n",
       "Index: []"
      ]
     },
     "execution_count": 46,
     "metadata": {},
     "output_type": "execute_result"
    }
   ],
   "source": [
    "df = pd.DataFrame(columns = title)\n",
    "df"
   ]
  },
  {
   "cell_type": "code",
   "execution_count": 50,
   "id": "b8688115-48bc-41c0-87fe-4474a84c3c83",
   "metadata": {},
   "outputs": [],
   "source": [
    "column_data = table.find_all('tr')"
   ]
  },
  {
   "cell_type": "code",
   "execution_count": 55,
   "id": "08ffbab7-297a-4002-8b1b-591b8dc2d8ba",
   "metadata": {},
   "outputs": [],
   "source": [
    "for row in column_data[1:]:\n",
    "    row_data = row.find_all('td')\n",
    "    individual_row_data = [data.text.strip() for data in row_data]\n",
    "    #print(individual_row_data)\n",
    "    length = len(df)\n",
    "    df.loc[length] = individual_row_data"
   ]
  },
  {
   "cell_type": "code",
   "execution_count": 56,
   "id": "08da5ee5-fe71-42ec-8cf8-ecd44737c007",
   "metadata": {},
   "outputs": [
    {
     "data": {
      "text/html": [
       "<div>\n",
       "<style scoped>\n",
       "    .dataframe tbody tr th:only-of-type {\n",
       "        vertical-align: middle;\n",
       "    }\n",
       "\n",
       "    .dataframe tbody tr th {\n",
       "        vertical-align: top;\n",
       "    }\n",
       "\n",
       "    .dataframe thead th {\n",
       "        text-align: right;\n",
       "    }\n",
       "</style>\n",
       "<table border=\"1\" class=\"dataframe\">\n",
       "  <thead>\n",
       "    <tr style=\"text-align: right;\">\n",
       "      <th></th>\n",
       "      <th>Rank</th>\n",
       "      <th>Name</th>\n",
       "      <th>Industry</th>\n",
       "      <th>Revenue (USD millions)</th>\n",
       "      <th>Revenue growth</th>\n",
       "      <th>Employees</th>\n",
       "      <th>Headquarters</th>\n",
       "    </tr>\n",
       "  </thead>\n",
       "  <tbody>\n",
       "    <tr>\n",
       "      <th>0</th>\n",
       "      <td>1</td>\n",
       "      <td>Walmart</td>\n",
       "      <td>Retail</td>\n",
       "      <td>648,125</td>\n",
       "      <td>6.0%</td>\n",
       "      <td>2,100,000</td>\n",
       "      <td>Bentonville, Arkansas</td>\n",
       "    </tr>\n",
       "    <tr>\n",
       "      <th>1</th>\n",
       "      <td>2</td>\n",
       "      <td>Amazon</td>\n",
       "      <td>Retail and cloud computing</td>\n",
       "      <td>574,785</td>\n",
       "      <td>11.9%</td>\n",
       "      <td>1,525,000</td>\n",
       "      <td>Seattle, Washington</td>\n",
       "    </tr>\n",
       "    <tr>\n",
       "      <th>2</th>\n",
       "      <td>3</td>\n",
       "      <td>Apple</td>\n",
       "      <td>Electronics industry</td>\n",
       "      <td>383,482</td>\n",
       "      <td>-2.8%</td>\n",
       "      <td>161,000</td>\n",
       "      <td>Cupertino, California</td>\n",
       "    </tr>\n",
       "    <tr>\n",
       "      <th>3</th>\n",
       "      <td>4</td>\n",
       "      <td>UnitedHealth Group</td>\n",
       "      <td>Healthcare</td>\n",
       "      <td>371,622</td>\n",
       "      <td>14.6%</td>\n",
       "      <td>440,000</td>\n",
       "      <td>Minnetonka, Minnesota</td>\n",
       "    </tr>\n",
       "    <tr>\n",
       "      <th>4</th>\n",
       "      <td>5</td>\n",
       "      <td>Berkshire Hathaway</td>\n",
       "      <td>Conglomerate</td>\n",
       "      <td>364,482</td>\n",
       "      <td>20.7%</td>\n",
       "      <td>396,500</td>\n",
       "      <td>Omaha, Nebraska</td>\n",
       "    </tr>\n",
       "    <tr>\n",
       "      <th>...</th>\n",
       "      <td>...</td>\n",
       "      <td>...</td>\n",
       "      <td>...</td>\n",
       "      <td>...</td>\n",
       "      <td>...</td>\n",
       "      <td>...</td>\n",
       "      <td>...</td>\n",
       "    </tr>\n",
       "    <tr>\n",
       "      <th>95</th>\n",
       "      <td>96</td>\n",
       "      <td>TIAA</td>\n",
       "      <td>Financials</td>\n",
       "      <td>45,735</td>\n",
       "      <td>11.8%</td>\n",
       "      <td>16,023</td>\n",
       "      <td>New York City, New York</td>\n",
       "    </tr>\n",
       "    <tr>\n",
       "      <th>96</th>\n",
       "      <td>97</td>\n",
       "      <td>CHS</td>\n",
       "      <td>Agriculture cooperative</td>\n",
       "      <td>45,590</td>\n",
       "      <td>-4.6%</td>\n",
       "      <td>10,609</td>\n",
       "      <td>Inver Grove Heights, Minnesota</td>\n",
       "    </tr>\n",
       "    <tr>\n",
       "      <th>97</th>\n",
       "      <td>98</td>\n",
       "      <td>Bristol-Myers Squibb</td>\n",
       "      <td>Pharmaceutical industry</td>\n",
       "      <td>45,006</td>\n",
       "      <td>-2.5%</td>\n",
       "      <td>34,100</td>\n",
       "      <td>New York City, New York</td>\n",
       "    </tr>\n",
       "    <tr>\n",
       "      <th>98</th>\n",
       "      <td>99</td>\n",
       "      <td>Dow Chemical Company</td>\n",
       "      <td>Chemical industry</td>\n",
       "      <td>44,622</td>\n",
       "      <td>-21.6%</td>\n",
       "      <td>35,900</td>\n",
       "      <td>Midland, Michigan</td>\n",
       "    </tr>\n",
       "    <tr>\n",
       "      <th>99</th>\n",
       "      <td>100</td>\n",
       "      <td>Best Buy</td>\n",
       "      <td>Retail</td>\n",
       "      <td>43,452</td>\n",
       "      <td>-6.1%</td>\n",
       "      <td>85,000</td>\n",
       "      <td>Richfield, Minnesota</td>\n",
       "    </tr>\n",
       "  </tbody>\n",
       "</table>\n",
       "<p>100 rows × 7 columns</p>\n",
       "</div>"
      ],
      "text/plain": [
       "   Rank                  Name                    Industry  \\\n",
       "0     1               Walmart                      Retail   \n",
       "1     2                Amazon  Retail and cloud computing   \n",
       "2     3                 Apple        Electronics industry   \n",
       "3     4    UnitedHealth Group                  Healthcare   \n",
       "4     5    Berkshire Hathaway                Conglomerate   \n",
       "..  ...                   ...                         ...   \n",
       "95   96                  TIAA                  Financials   \n",
       "96   97                   CHS     Agriculture cooperative   \n",
       "97   98  Bristol-Myers Squibb     Pharmaceutical industry   \n",
       "98   99  Dow Chemical Company           Chemical industry   \n",
       "99  100              Best Buy                      Retail   \n",
       "\n",
       "   Revenue (USD millions) Revenue growth  Employees  \\\n",
       "0                 648,125           6.0%  2,100,000   \n",
       "1                 574,785          11.9%  1,525,000   \n",
       "2                 383,482          -2.8%    161,000   \n",
       "3                 371,622          14.6%    440,000   \n",
       "4                 364,482          20.7%    396,500   \n",
       "..                    ...            ...        ...   \n",
       "95                 45,735          11.8%     16,023   \n",
       "96                 45,590          -4.6%     10,609   \n",
       "97                 45,006          -2.5%     34,100   \n",
       "98                 44,622         -21.6%     35,900   \n",
       "99                 43,452          -6.1%     85,000   \n",
       "\n",
       "                      Headquarters  \n",
       "0            Bentonville, Arkansas  \n",
       "1              Seattle, Washington  \n",
       "2            Cupertino, California  \n",
       "3            Minnetonka, Minnesota  \n",
       "4                  Omaha, Nebraska  \n",
       "..                             ...  \n",
       "95         New York City, New York  \n",
       "96  Inver Grove Heights, Minnesota  \n",
       "97         New York City, New York  \n",
       "98               Midland, Michigan  \n",
       "99            Richfield, Minnesota  \n",
       "\n",
       "[100 rows x 7 columns]"
      ]
     },
     "execution_count": 56,
     "metadata": {},
     "output_type": "execute_result"
    }
   ],
   "source": [
    "df"
   ]
  },
  {
   "cell_type": "markdown",
   "id": "570685bd-9f66-4d4a-a46b-7d9ae2eadbb3",
   "metadata": {},
   "source": [
    "**4. Saving Data**\n",
    "\n",
    "Saving the cleaned data to a CSV file for future reference. "
   ]
  },
  {
   "cell_type": "code",
   "execution_count": 61,
   "id": "dede2f54-4d42-47f5-9581-77d5e382425d",
   "metadata": {},
   "outputs": [],
   "source": [
    "df.to_csv(r'C:\\Users\\user\\OneDrive - The University of Hong Kong - Connect\\Documents\\Data Analytics Projects\\Web Scraping Output\\Companies.csv')"
   ]
  },
  {
   "cell_type": "markdown",
   "id": "15f4c31f-2d0a-46ac-8030-b89916c28362",
   "metadata": {},
   "source": [
    "**5. Conclusion**\n",
    "\n",
    "This project successfully extracts and saves the list of largest US companies by revenue, providing insights into the current business landscape."
   ]
  }
 ],
 "metadata": {
  "kernelspec": {
   "display_name": "Python 3 (ipykernel)",
   "language": "python",
   "name": "python3"
  },
  "language_info": {
   "codemirror_mode": {
    "name": "ipython",
    "version": 3
   },
   "file_extension": ".py",
   "mimetype": "text/x-python",
   "name": "python",
   "nbconvert_exporter": "python",
   "pygments_lexer": "ipython3",
   "version": "3.12.4"
  }
 },
 "nbformat": 4,
 "nbformat_minor": 5
}
